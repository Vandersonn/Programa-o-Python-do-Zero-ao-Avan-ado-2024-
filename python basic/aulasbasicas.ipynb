{
 "cells": [
  {
   "cell_type": "code",
   "execution_count": 4,
   "id": "initial_id",
   "metadata": {
    "collapsed": true,
    "ExecuteTime": {
     "end_time": "2024-02-12T19:55:17.322108134Z",
     "start_time": "2024-02-12T19:55:17.306529995Z"
    }
   },
   "outputs": [
    {
     "name": "stdout",
     "output_type": "stream",
     "text": [
      "10 2.6 888 + 999\n"
     ]
    }
   ],
   "source": [
    "# variaveis\n",
    "a = int(10)\n",
    "b = float(2.6)\n",
    "c = str('888 + 999')\n",
    "print(a, b, c)"
   ]
  },
  {
   "cell_type": "code",
   "outputs": [
    {
     "data": {
      "text/plain": "(int, float, str)"
     },
     "execution_count": 9,
     "metadata": {},
     "output_type": "execute_result"
    }
   ],
   "source": [
    "# tipos\n",
    "type(a) ,type(b), type(c)"
   ],
   "metadata": {
    "collapsed": false,
    "ExecuteTime": {
     "end_time": "2024-02-12T19:57:15.462449146Z",
     "start_time": "2024-02-12T19:57:15.420528235Z"
    }
   },
   "id": "a5d16ae05b2e9ab4",
   "execution_count": 9
  },
  {
   "cell_type": "code",
   "outputs": [
    {
     "name": "stdout",
     "output_type": "stream",
     "text": [
      "Okay anan vocẽ tem 41 anos e mora em cb\n"
     ]
    }
   ],
   "source": [
    "# entrada e saída\n",
    "name = input('Qual é o seu nome ')\n",
    "idade = str(input('qual é sua idade '))\n",
    "cidade = input('Onde vocẽ mora ')\n",
    "\n",
    "print(\"Okay \"+ name + \" vocẽ tem \" + idade +         \" anos e mora em \" + cidade)"
   ],
   "metadata": {
    "collapsed": false,
    "ExecuteTime": {
     "end_time": "2024-02-13T14:04:29.438022790Z",
     "start_time": "2024-02-13T14:04:19.657225309Z"
    }
   },
   "id": "7214a9b0860e609c",
   "execution_count": 2
  },
  {
   "cell_type": "code",
   "outputs": [
    {
     "name": "stdout",
     "output_type": "stream",
     "text": [
      "aca\n"
     ]
    }
   ],
   "source": [
    "# slice pega uma parte determinada\n",
    "palavra = \"Abacate ve\"\n",
    "#           0123456789\n",
    "print(palavra[2:5])"
   ],
   "metadata": {
    "collapsed": false,
    "ExecuteTime": {
     "end_time": "2024-02-13T14:30:29.766094901Z",
     "start_time": "2024-02-13T14:30:29.725270292Z"
    }
   },
   "id": "8c2056474ebed757",
   "execution_count": 4
  },
  {
   "cell_type": "code",
   "outputs": [
    {
     "name": "stdout",
     "output_type": "stream",
     "text": [
      "Okay ana, vocẽ tem 12 anos e mora em viçosa.\n"
     ]
    }
   ],
   "source": [
    "# Formatação de strings\n",
    "\n",
    "name = input('Qual é o seu nome ')\n",
    "idade = str(input('qual é sua idade '))\n",
    "cidade = input('Onde vocẽ mora ')\n",
    "\n",
    "print(f'Okay {name}, vocẽ tem {idade} anos e mora em {cidade}.')"
   ],
   "metadata": {
    "collapsed": false,
    "ExecuteTime": {
     "end_time": "2024-02-13T14:43:26.640316981Z",
     "start_time": "2024-02-13T14:43:13.954456841Z"
    }
   },
   "id": "b80921df2122098f",
   "execution_count": 6
  },
  {
   "cell_type": "code",
   "outputs": [
    {
     "name": "stdout",
     "output_type": "stream",
     "text": [
      "1\n",
      "2\n",
      "3\n",
      "4\n",
      "5\n"
     ]
    }
   ],
   "source": [
    "# for loop\n",
    "for i in range(1,6):\n",
    "    print(i)"
   ],
   "metadata": {
    "collapsed": false,
    "ExecuteTime": {
     "end_time": "2024-02-13T17:09:05.443503284Z",
     "start_time": "2024-02-13T17:09:05.400015450Z"
    }
   },
   "id": "e4f0450b37740154",
   "execution_count": 8
  },
  {
   "cell_type": "markdown",
   "source": [],
   "metadata": {
    "collapsed": false
   },
   "id": "4553abce7fdc1d30"
  },
  {
   "cell_type": "code",
   "outputs": [
    {
     "name": "stdout",
     "output_type": "stream",
     "text": [
      "compra no valor de R$ 12.50 e entrega confirmada\n",
      "Detalhes para o seu email\n"
     ]
    }
   ],
   "source": [
    "# Enviar um e-mail com os detalhes da compra online max = 3 tentativas\n",
    "compra_confirmada = True\n",
    "dados_compra = ('compra no valor de R$ 12.50 e entrega confirmada')\n",
    "\n",
    "for enviar in range(3):\n",
    "    if compra_confirmada:\n",
    "        print(dados_compra)\n",
    "        print('Detalhes para o seu email')\n",
    "        break\n",
    "    else:\n",
    "        print('falha na compra')"
   ],
   "metadata": {
    "collapsed": false,
    "ExecuteTime": {
     "end_time": "2024-02-13T17:21:22.093183904Z",
     "start_time": "2024-02-13T17:21:22.044934820Z"
    }
   },
   "id": "a5f21d1199c54ce7",
   "execution_count": 10
  },
  {
   "cell_type": "code",
   "outputs": [
    {
     "name": "stdout",
     "output_type": "stream",
     "text": [
      "0\n",
      "0\n",
      "1\n",
      "2\n",
      "3\n",
      "4\n",
      "1\n",
      "0\n",
      "1\n",
      "2\n",
      "3\n",
      "4\n",
      "2\n",
      "0\n",
      "1\n",
      "2\n",
      "3\n",
      "4\n",
      "3\n",
      "0\n",
      "1\n",
      "2\n",
      "3\n",
      "4\n",
      "4\n",
      "0\n",
      "1\n",
      "2\n",
      "3\n",
      "4\n"
     ]
    }
   ],
   "source": [
    "# for loop nested\n",
    "# outer loop\n",
    "#    inner loop\n",
    "\n",
    "for numero1 in range(5):\n",
    "    print(numero1)\n",
    "    for numero2 in range(5):\n",
    "        print(numero2)"
   ],
   "metadata": {
    "collapsed": false,
    "ExecuteTime": {
     "end_time": "2024-02-13T21:00:05.639062229Z",
     "start_time": "2024-02-13T21:00:05.613392152Z"
    }
   },
   "id": "493933fc27525d3b",
   "execution_count": 2
  }
 ],
 "metadata": {
  "kernelspec": {
   "display_name": "Python 3",
   "language": "python",
   "name": "python3"
  },
  "language_info": {
   "codemirror_mode": {
    "name": "ipython",
    "version": 2
   },
   "file_extension": ".py",
   "mimetype": "text/x-python",
   "name": "python",
   "nbconvert_exporter": "python",
   "pygments_lexer": "ipython2",
   "version": "2.7.6"
  }
 },
 "nbformat": 4,
 "nbformat_minor": 5
}
