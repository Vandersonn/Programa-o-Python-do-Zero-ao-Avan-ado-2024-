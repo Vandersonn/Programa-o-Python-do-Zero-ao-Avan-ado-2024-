{
 "cells": [
  {
   "cell_type": "markdown",
   "source": [
    "# Basico"
   ],
   "metadata": {
    "collapsed": false
   },
   "id": "84365e51a577cbf7"
  },
  {
   "cell_type": "code",
   "outputs": [
    {
     "name": "stdout",
     "output_type": "stream",
     "text": [
      "10 2.6 888 + 999\n"
     ]
    }
   ],
   "source": [
    "# variaveis\n",
    "\n",
    "a = int(10)\n",
    "b = float(2.6)\n",
    "c = str('888 + 999')\n",
    "print(a, b, c)"
   ],
   "metadata": {
    "collapsed": true,
    "ExecuteTime": {
     "end_time": "2024-02-12T19:55:17.322108134Z",
     "start_time": "2024-02-12T19:55:17.306529995Z"
    }
   },
   "id": "initial_id",
   "execution_count": 4
  },
  {
   "cell_type": "code",
   "outputs": [
    {
     "data": {
      "text/plain": "(int, float, str)"
     },
     "execution_count": 9,
     "metadata": {},
     "output_type": "execute_result"
    }
   ],
   "source": [
    "# tipos\n",
    "type(a) ,type(b), type(c)"
   ],
   "metadata": {
    "collapsed": false,
    "ExecuteTime": {
     "end_time": "2024-02-12T19:57:15.462449146Z",
     "start_time": "2024-02-12T19:57:15.420528235Z"
    }
   },
   "id": "a5d16ae05b2e9ab4",
   "execution_count": 9
  },
  {
   "cell_type": "code",
   "outputs": [
    {
     "name": "stdout",
     "output_type": "stream",
     "text": [
      "Okay anan vocẽ tem 41 anos e mora em cb\n"
     ]
    }
   ],
   "source": [
    "# entrada e saída\n",
    "name = input('Qual é o seu nome ')\n",
    "idade = str(input('qual é sua idade '))\n",
    "cidade = input('Onde vocẽ mora ')\n",
    "\n",
    "print(\"Okay \"+ name + \" vocẽ tem \" + idade +         \" anos e mora em \" + cidade)"
   ],
   "metadata": {
    "collapsed": false,
    "ExecuteTime": {
     "end_time": "2024-02-13T14:04:29.438022790Z",
     "start_time": "2024-02-13T14:04:19.657225309Z"
    }
   },
   "id": "7214a9b0860e609c",
   "execution_count": 2
  },
  {
   "cell_type": "code",
   "outputs": [
    {
     "name": "stdout",
     "output_type": "stream",
     "text": [
      "aca\n"
     ]
    }
   ],
   "source": [
    "# slice pega uma parte determinada\n",
    "palavra = \"Abacate ve\"\n",
    "#           0123456789\n",
    "print(palavra[2:5])"
   ],
   "metadata": {
    "collapsed": false,
    "ExecuteTime": {
     "end_time": "2024-02-14T13:52:15.181127313Z",
     "start_time": "2024-02-14T13:52:15.104578612Z"
    }
   },
   "id": "8c2056474ebed757",
   "execution_count": 1
  },
  {
   "cell_type": "code",
   "outputs": [
    {
     "name": "stdout",
     "output_type": "stream",
     "text": [
      "Okay ana, vocẽ tem 12 anos e mora em viçosa.\n"
     ]
    }
   ],
   "source": [
    "# Formatação de strings\n",
    "\n",
    "name = input('Qual é o seu nome ')\n",
    "idade = str(input('qual é sua idade '))\n",
    "cidade = input('Onde vocẽ mora ')\n",
    "\n",
    "print(f'Okay {name}, vocẽ tem {idade} anos e mora em {cidade}.')"
   ],
   "metadata": {
    "collapsed": false,
    "ExecuteTime": {
     "end_time": "2024-02-13T14:43:26.640316981Z",
     "start_time": "2024-02-13T14:43:13.954456841Z"
    }
   },
   "id": "b80921df2122098f",
   "execution_count": 6
  },
  {
   "cell_type": "code",
   "outputs": [
    {
     "name": "stdout",
     "output_type": "stream",
     "text": [
      "1\n",
      "2\n",
      "3\n",
      "4\n",
      "5\n"
     ]
    }
   ],
   "source": [
    "# for loop\n",
    "for i in range(1,6):\n",
    "    print(i)"
   ],
   "metadata": {
    "collapsed": false,
    "ExecuteTime": {
     "end_time": "2024-02-13T17:09:05.443503284Z",
     "start_time": "2024-02-13T17:09:05.400015450Z"
    }
   },
   "id": "e4f0450b37740154",
   "execution_count": 8
  },
  {
   "cell_type": "markdown",
   "source": [],
   "metadata": {
    "collapsed": false
   },
   "id": "4553abce7fdc1d30"
  },
  {
   "cell_type": "code",
   "outputs": [
    {
     "name": "stdout",
     "output_type": "stream",
     "text": [
      "compra no valor de R$ 12.50 e entrega confirmada\n",
      "Detalhes para o seu email\n"
     ]
    }
   ],
   "source": [
    "# Enviar um e-mail com os detalhes da compra online max = 3 tentativas\n",
    "compra_confirmada = True\n",
    "dados_compra = ('compra no valor de R$ 12.50 e entrega confirmada')\n",
    "\n",
    "for enviar in range(3):\n",
    "    if compra_confirmada:\n",
    "        print(dados_compra)\n",
    "        print('Detalhes para o seu email')\n",
    "        break\n",
    "    else:\n",
    "        print('falha na compra')"
   ],
   "metadata": {
    "collapsed": false,
    "ExecuteTime": {
     "end_time": "2024-02-13T17:21:22.093183904Z",
     "start_time": "2024-02-13T17:21:22.044934820Z"
    }
   },
   "id": "a5f21d1199c54ce7",
   "execution_count": 10
  },
  {
   "cell_type": "code",
   "outputs": [
    {
     "name": "stdout",
     "output_type": "stream",
     "text": [
      "0\n",
      "0\n",
      "1\n",
      "2\n",
      "3\n",
      "4\n",
      "1\n",
      "1\n",
      "2\n",
      "3\n",
      "4\n",
      "5\n",
      "2\n",
      "2\n",
      "3\n",
      "4\n",
      "5\n",
      "6\n",
      "3\n",
      "3\n",
      "4\n",
      "5\n",
      "6\n",
      "7\n",
      "4\n",
      "4\n",
      "5\n",
      "6\n",
      "7\n",
      "8\n"
     ]
    }
   ],
   "source": [
    "# for loop nested\n",
    "# outer loop\n",
    "#    inner loop\n",
    "\n",
    "for numero1 in range(5):\n",
    "    print(numero1)\n",
    "    for numero2 in range(5):\n",
    "        print(numero2)"
   ],
   "metadata": {
    "collapsed": false,
    "ExecuteTime": {
     "end_time": "2024-02-13T21:08:32.227517298Z",
     "start_time": "2024-02-13T21:08:32.185170342Z"
    }
   },
   "id": "493933fc27525d3b",
   "execution_count": 4
  },
  {
   "cell_type": "code",
   "outputs": [
    {
     "name": "stdout",
     "output_type": "stream",
     "text": [
      " F A N T A S T I C O"
     ]
    }
   ],
   "source": [
    "palavra = 'FANTASTICO'\n",
    "\n",
    "for space in palavra:\n",
    "    print(f' {space}' , end=\"\")"
   ],
   "metadata": {
    "collapsed": false,
    "ExecuteTime": {
     "end_time": "2024-02-13T21:11:57.123263910Z",
     "start_time": "2024-02-13T21:11:57.079413289Z"
    }
   },
   "id": "46ef928a7e915b9",
   "execution_count": 6
  },
  {
   "cell_type": "raw",
   "source": [
    "# retangulo 6 x 6\n",
    "\n",
    "linhas = 3\n",
    "colunas = 6\n",
    "simbolo = '@'\n",
    "\n",
    "for l in range(linhas):\n",
    "    for c in range(colunas):\n",
    "        print(simbolo, end='')\n",
    "    print()\n",
    "\n"
   ],
   "metadata": {
    "collapsed": false
   },
   "id": "caaa4c73b24c772"
  },
  {
   "cell_type": "code",
   "outputs": [
    {
     "name": "stdout",
     "output_type": "stream",
     "text": [
      "No dia 1 o produto será vendido por 100\n",
      "100\n",
      "No dia 2 o produto será vendido por 95\n",
      "95\n",
      "No dia 3 o produto será vendido por 90\n",
      "90\n",
      "No dia 4 o produto será vendido por 85\n",
      "85\n",
      "No dia 5 o produto será vendido por 80\n",
      "80\n",
      "No dia 6 o produto será vendido por 75\n",
      "75\n",
      "No dia 7 o produto será vendido por 70\n",
      "70\n",
      "No dia 8 o produto será vendido por 65\n",
      "65\n",
      "No dia 9 o produto será vendido por 60\n",
      "60\n",
      "No dia 10 o produto será vendido por 55\n",
      "55\n",
      "No dia 11 o produto será vendido por 50\n",
      "50\n",
      "No dia 12 o produto será vendido por 45\n",
      "45\n",
      "No dia 13 o produto será vendido por 40\n",
      "40\n",
      "No dia 14 o produto será vendido por 35\n",
      "35\n",
      "No dia 15 o produto será vendido por 30\n",
      "30\n",
      "No dia 16 o produto será vendido por 25\n",
      "25\n"
     ]
    }
   ],
   "source": [
    "# while loop\n",
    "\n",
    "valor = 100\n",
    "dia = 0\n",
    "while valor > 20:\n",
    "    dia +=1\n",
    "    print(f'No dia {dia} o produto será vendido por {valor}')\n",
    "    print(valor)\n",
    "    valor-=5"
   ],
   "metadata": {
    "collapsed": false,
    "ExecuteTime": {
     "end_time": "2024-02-13T22:39:23.838013570Z",
     "start_time": "2024-02-13T22:39:23.792825053Z"
    }
   },
   "id": "6dbd81c8ca9d58e7",
   "execution_count": 11
  },
  {
   "cell_type": "code",
   "outputs": [
    {
     "name": "stdout",
     "output_type": "stream",
     "text": [
      "Elegivel\n"
     ]
    }
   ],
   "source": [
    "# simplificando o if\n",
    "\n",
    "idade = 18\n",
    "\n",
    "print('não elegivel' if idade < 18 else 'Elegivel')"
   ],
   "metadata": {
    "collapsed": false,
    "ExecuteTime": {
     "end_time": "2024-02-13T23:05:21.008817279Z",
     "start_time": "2024-02-13T23:05:21.004801168Z"
    }
   },
   "id": "b1bab11aefc64d7f",
   "execution_count": 16
  },
  {
   "cell_type": "code",
   "outputs": [
    {
     "name": "stdout",
     "output_type": "stream",
     "text": [
      "O valor final do seu produto será de R$ -45.0\n"
     ]
    }
   ],
   "source": [
    "valor = int(input(\"Digite o valor do produto em R$ \"))\n",
    "\n",
    "while valor > 20:\n",
    "    valor = ( valor * 0.10) - valor\n",
    "    print(f'O valor final do seu produto será de R$ {valor}')\n",
    "    break"
   ],
   "metadata": {
    "collapsed": false,
    "ExecuteTime": {
     "end_time": "2024-02-14T01:41:34.978217118Z",
     "start_time": "2024-02-14T01:41:31.192461464Z"
    }
   },
   "id": "2a0a33b6d77e441f",
   "execution_count": 46
  },
  {
   "cell_type": "markdown",
   "source": [
    "# Funções"
   ],
   "metadata": {
    "collapsed": false
   },
   "id": "4434b9334a9dcd07"
  },
  {
   "cell_type": "code",
   "outputs": [
    {
     "name": "stdout",
     "output_type": "stream",
     "text": [
      "Seja bem vindo(a) hiyde!\n",
      " Temos 5 noteboks de 8 GB\n"
     ]
    }
   ],
   "source": [
    "# função pessoa loja\n",
    "def ola_clente():\n",
    "    print(f\"Seja bem vindo(a) {cliente}!\")\n",
    "    print(f\" Temos 5 noteboks de 8 GB\")\n",
    "    \n",
    "cliente = input('Digite seu nome ')\n",
    "ola_clente()"
   ],
   "metadata": {
    "collapsed": false,
    "ExecuteTime": {
     "end_time": "2024-02-13T23:38:44.820549255Z",
     "start_time": "2024-02-13T23:38:39.350053237Z"
    }
   },
   "id": "e525eb11c689dd05",
   "execution_count": 30
  },
  {
   "cell_type": "code",
   "outputs": [
    {
     "name": "stdout",
     "output_type": "stream",
     "text": [
      "40.0\n"
     ]
    }
   ],
   "source": [
    "# soma\n",
    "def soma_dois_numeros():\n",
    "    resultado = x + y\n",
    "    print(resultado)\n",
    "    \n",
    "x = float(input('Digite um numero '))  \n",
    "y = float(input('Digite outro numero ')) \n",
    "soma_dois_numeros()  "
   ],
   "metadata": {
    "collapsed": false,
    "ExecuteTime": {
     "end_time": "2024-02-14T00:01:59.421930433Z",
     "start_time": "2024-02-14T00:01:55.084306874Z"
    }
   },
   "id": "7625e74c56c2ab7e",
   "execution_count": 45
  },
  {
   "cell_type": "code",
   "outputs": [
    {
     "name": "stdout",
     "output_type": "stream",
     "text": [
      "Olá Marcos\n",
      "Temos 5 laptops em estoque\n"
     ]
    }
   ],
   "source": [
    "# Parametros e argumentos\n",
    "\n",
    "def boas_vindas(name, quantidade):\n",
    "    print(f'Olá {name}')\n",
    "    print(f'Temos {str(quantidade)} laptops em estoque')\n",
    "    \n",
    "boas_vindas('Marcos', 5) \n",
    "    \n",
    "    "
   ],
   "metadata": {
    "collapsed": false,
    "ExecuteTime": {
     "end_time": "2024-02-14T18:02:02.896466181Z",
     "start_time": "2024-02-14T18:02:02.851009749Z"
    }
   },
   "id": "f7b8b21c4b49c594",
   "execution_count": 3
  },
  {
   "cell_type": "markdown",
   "source": [],
   "metadata": {
    "collapsed": false
   },
   "id": "237ae8f8d271f799"
  },
  {
   "cell_type": "code",
   "outputs": [
    {
     "name": "stdout",
     "output_type": "stream",
     "text": [
      "Olá Marcos\n",
      "Temos 10 laptops em estoque\n"
     ]
    }
   ],
   "source": [
    "# Parametros e argumentos\n",
    "\n",
    "def boas_vindas(name, quantidade=10):\n",
    "    print(f'Olá {name}')\n",
    "    print(f'Temos {str(quantidade)} laptops em estoque')\n",
    "    \n",
    "boas_vindas('Marcos', ) "
   ],
   "metadata": {
    "collapsed": false,
    "ExecuteTime": {
     "end_time": "2024-02-14T18:10:10.718179772Z",
     "start_time": "2024-02-14T18:10:10.697505843Z"
    }
   },
   "id": "2ff4b39eeb0304a4",
   "execution_count": 10
  },
  {
   "cell_type": "markdown",
   "source": [
    "# functions (funções) "
   ],
   "metadata": {
    "collapsed": false
   },
   "id": "bd9c84be80573867"
  },
  {
   "cell_type": "code",
   "outputs": [
    {
     "name": "stdout",
     "output_type": "stream",
     "text": [
      "23\n"
     ]
    }
   ],
   "source": [
    "def soma(*numeros):\n",
    "    resultado = 0\n",
    "    for num in numeros:\n",
    "        resultado += num\n",
    "    return resultado\n",
    "\n",
    "x = soma(2,3,4,7,7)\n",
    "print(x)"
   ],
   "metadata": {
    "collapsed": false,
    "ExecuteTime": {
     "end_time": "2024-02-14T21:18:39.586844274Z",
     "start_time": "2024-02-14T21:18:39.562862183Z"
    }
   },
   "id": "2985dfdd1ab5eaae",
   "execution_count": 15
  },
  {
   "cell_type": "markdown",
   "source": [
    "# Functions (funções)\n",
    "    # DRY - Don't tepeat yourself.\n",
    "    # vários argumentos (xargs) identificando o parametro\n",
    "#Cria uma função que armazena números e strings(dados)"
   ],
   "metadata": {
    "collapsed": false
   },
   "id": "71099a5f32f6fcaa"
  },
  {
   "cell_type": "code",
   "outputs": [
    {
     "name": "stdout",
     "output_type": "stream",
     "text": [
      "{'marca': 'Gol', 'cor': 'Preto', 'motor': 2.0}\n"
     ]
    }
   ],
   "source": [
    "def agencia(**carro):\n",
    "    return carro\n",
    "\n",
    "print(agencia(marca='Gol', cor='Preto', motor=2.0))\n"
   ],
   "metadata": {
    "collapsed": false,
    "ExecuteTime": {
     "end_time": "2024-02-14T21:38:52.550216409Z",
     "start_time": "2024-02-14T21:38:52.502462309Z"
    }
   },
   "id": "405d2540289048b5",
   "execution_count": 4
  },
  {
   "cell_type": "code",
   "outputs": [
    {
     "name": "stdout",
     "output_type": "stream",
     "text": [
      "24\n",
      "24\n"
     ]
    }
   ],
   "source": [
    "# Fatorial\n",
    "import math\n",
    "print(math.factorial(4))\n",
    "fatorial = 4*3*2*1\n",
    "print(fatorial)\n"
   ],
   "metadata": {
    "collapsed": false,
    "ExecuteTime": {
     "end_time": "2024-02-14T21:45:24.771907038Z",
     "start_time": "2024-02-14T21:45:24.765579955Z"
    }
   },
   "id": "706d01199a4080d7",
   "execution_count": 6
  }
 ],
 "metadata": {
  "kernelspec": {
   "display_name": "Python 3",
   "language": "python",
   "name": "python3"
  },
  "language_info": {
   "codemirror_mode": {
    "name": "ipython",
    "version": 2
   },
   "file_extension": ".py",
   "mimetype": "text/x-python",
   "name": "python",
   "nbconvert_exporter": "python",
   "pygments_lexer": "ipython2",
   "version": "2.7.6"
  }
 },
 "nbformat": 4,
 "nbformat_minor": 5
}
