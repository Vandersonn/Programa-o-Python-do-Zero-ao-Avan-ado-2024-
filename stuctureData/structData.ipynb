{
 "cells": [
  {
   "cell_type": "markdown",
   "source": [
    "Listas\n",
    "    Armazenar mais de uma informação em variaveis\n",
    "    Manter a sequẽncia dos dados em uma variavel"
   ],
   "metadata": {
    "collapsed": false
   },
   "id": "c422225856fa96e5"
  },
  {
   "cell_type": "code",
   "outputs": [
    {
     "name": "stdout",
     "output_type": "stream",
     "text": [
      "['Rio de Janeiro', 'São Paulo', 'Minas Gerais']\n"
     ]
    }
   ],
   "source": [
    "cidade1 = 'Rio de Janeiro'\n",
    "cidade2 = 'São Paulo'\n",
    "cidade3 = 'Minas Gerais'\n",
    "\n",
    "cidades = [cidade1, cidade2, cidade3]\n",
    "\n",
    "print(cidades)"
   ],
   "metadata": {
    "collapsed": true,
    "ExecuteTime": {
     "end_time": "2024-02-14T22:01:27.931139926Z",
     "start_time": "2024-02-14T22:01:27.879814162Z"
    }
   },
   "id": "initial_id",
   "execution_count": 3
  }
 ],
 "metadata": {
  "kernelspec": {
   "display_name": "Python 3",
   "language": "python",
   "name": "python3"
  },
  "language_info": {
   "codemirror_mode": {
    "name": "ipython",
    "version": 2
   },
   "file_extension": ".py",
   "mimetype": "text/x-python",
   "name": "python",
   "nbconvert_exporter": "python",
   "pygments_lexer": "ipython2",
   "version": "2.7.6"
  }
 },
 "nbformat": 4,
 "nbformat_minor": 5
}
